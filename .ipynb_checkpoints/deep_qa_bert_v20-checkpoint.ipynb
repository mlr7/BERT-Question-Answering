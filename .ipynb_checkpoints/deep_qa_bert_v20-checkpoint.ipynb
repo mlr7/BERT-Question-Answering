{
 "cells": [
  {
   "cell_type": "code",
   "execution_count": null,
   "metadata": {},
   "outputs": [],
   "source": [
    "#file: deep_qa_bert2022.ipynb\n",
    "#poc: mlr7\n",
    "#date created: june_2020, april_2022\n",
    "#last modified: april_2022"
   ]
  },
  {
   "cell_type": "markdown",
   "metadata": {},
   "source": [
    "### Introduction"
   ]
  },
  {
   "cell_type": "markdown",
   "metadata": {},
   "source": [
    "Experiment with question answering (QA) on text documents using the BERT transformer architecture. For our corpus we use portions of the Wikipedia articles on the Dodgers and the Yankees. "
   ]
  },
  {
   "cell_type": "markdown",
   "metadata": {},
   "source": [
    "### Imports"
   ]
  },
  {
   "cell_type": "code",
   "execution_count": null,
   "metadata": {},
   "outputs": [],
   "source": [
    "import ktrain\n",
    "from ktrain import text"
   ]
  },
  {
   "cell_type": "markdown",
   "metadata": {},
   "source": [
    "## Experiment 1: Single Entity Corpus"
   ]
  },
  {
   "cell_type": "markdown",
   "metadata": {},
   "source": [
    "### Ingest/create text corpus\n",
    "\n",
    "Create or ingest the text corpus that will use for question answering\n",
    "\n",
    "(this is a hack, will be replaced soon by a proper pdf ingest and parsing engine . . .)"
   ]
  },
  {
   "cell_type": "code",
   "execution_count": null,
   "metadata": {},
   "outputs": [],
   "source": [
    "docs = [\n",
    "    \n",
    "    \"The Los Angeles Dodgers are an American professional baseball team based in Los Angeles. The Dodgers compete in Major League Baseball (MLB) as a member club of the National League (NL) West division. Established in 1883 in the city of Brooklyn, which later became a borough of New York City, the team joined the NL in 1890 as the Brooklyn Bridegrooms and assumed several different monikers thereafter before finally settling on the name Dodgers in 1932. From the 1940s through the mid-1950s, the Dodgers developed a fierce cross-town rivalry with the New York Yankees as the two clubs faced each other in the World Series seven times, with the Dodgers losing the first five matchups before defeating them to win the franchise's first title in 1955. It was also during this period that the Dodgers made history by breaking the baseball color line in 1947 with the debut of Jackie Robinson, the first African-American to play in the Major Leagues since 1884. Another major milestone was reached in 1956 when Don Newcombe became the first player ever to win both the Cy Young Award and the NL MVP in the same season.\"\n",
    "    \n",
    "    ,\"One of the most successful and storied franchises in MLB, the Dodgers have won seven World Series championships and a record 24 National League pennants. Eleven NL MVP award winners have played for the Dodgers, winning a total of 14. Eight Cy Young Award winners have pitched for the club, winning a total of 12—by far the most of any Major League franchise. Additionally, the Dodgers boast 18 Rookie of the Year Award winners—twice as many as the next club. This includes four consecutive Rookies of the Year from 1979 to 1982 and five consecutive from 1992 to 1996. From 1884 through 2021, the Dodgers' all-time record is 11,123–9,891 (.529).\"    \n",
    "\n",
    "    ,\"Today, the Dodgers are among the most popular MLB teams, enjoying large fan support both at home and on the road. They maintain a fierce rivalry with the San Francisco Giants dating back to when the two clubs were based in New York City. As of 2021, Forbes ranks the Dodgers second in MLB franchise valuation at $3.57 billion.\"\n",
    "    \n",
    "    ,\"The Dodgers were founded in 1883 as the Brooklyn Atlantics, borrowing the name of a defunct team that had played in Brooklyn before them. The team joined the American Association in 1884 and won the AA championship in 1889 before joining the National League in 1890. They promptly won the NL Championship their first year in the League. The team was known alternatively as the Bridegrooms, Grooms, Superbas, Robins, and Trolley Dodgers before officially becoming the Brooklyn Dodgers in the 1930s.\"\n",
    "    \n",
    "    ,\"Real estate investor Walter O'Malley acquired majority ownership of the Dodgers in 1950, when he bought the 25 percent share of co-owner Branch Rickey and became allied with the widow of another equal partner, Mrs. John L. Smith. Shortly afterwards, he was working to buy new land in Brooklyn to build a more accessible and profitable ballpark than the aging Ebbets Field. Beloved as it was, Ebbets Field was no longer well-served by its aging infrastructure and the Dodgers could no longer sell out the park even in the heat of a pennant race, despite largely dominating the National League from 1946 to 1957.\"\n",
    "\n",
    "    ,\"O'Malley wanted to build a new, state-of-the-art stadium in Brooklyn. But City Planner Robert Moses and New York politicians refused to grant him the eminent domain authority required to build pursuant to O'Malley's plans. To put pressure on the city, during the 1955 season, O'Malley announced that the team would play seven regular-season games and one exhibition game at Jersey City's Roosevelt Stadium in 1956. Moses and the City considered this an empty threat, and did not believe O'Malley would go through with moving the team from New York City. After teams began to travel to and from games by air instead of train, it became possible to include locations in the far west. Los Angeles officials attended the 1956 World Series looking to the Washington Senators to move to the West Coast. When O Malley heard that LA was looking for a club, he sent word to the Los Angeles officials that he was interested in talking. LA offered him what New York would not: a chance to buy land suitable for building a ballpark, and own that ballpark, giving him complete control over all revenue streams. When the news came out, NYC Mayor Robert F. Wagner, Jr. and Moses made an offer to build a ballpark on the World Fair Grounds in Queens that would be shared by the Giants and Dodgers. However, O'Malley was interested in his park under only his conditions, and the plans for a new stadium in Brooklyn seemed like a pipe dream. O'Malley decided to move the Dodgers to California, convincing Giants owner Horace Stoneham to move to San Francisco instead of Minneapolis to keep the Giants-Dodgers rivalry alive on the West Coast.\"\n",
    "    \n",
    "    ,\"The Dodgers played their final game at Ebbets Field on September 24, 1957, which the Dodgers won 2–0 over the Pittsburgh Pirates. New York remained a one-team town with the New York Yankees until 1962, when Joan Payson founded the New York Mets and brought National League baseball back to the city. The blue background used by the Dodgers was adopted by the Mets, honoring their New York NL forebears with a blend of Dodgers blue and Giants orange.\"\n",
    "]"
   ]
  },
  {
   "cell_type": "markdown",
   "metadata": {},
   "source": [
    "##### Inspect a single document as sanity check on data structure:"
   ]
  },
  {
   "cell_type": "code",
   "execution_count": null,
   "metadata": {},
   "outputs": [],
   "source": [
    "docs[2][0:1500]"
   ]
  },
  {
   "cell_type": "markdown",
   "metadata": {},
   "source": [
    "### Create index for document corpus\n",
    "\n",
    "(Must supply a unique index folder name, or else will crash out.\n",
    "Will create additional checks that avoids crash out soon)"
   ]
  },
  {
   "cell_type": "code",
   "execution_count": null,
   "metadata": {},
   "outputs": [],
   "source": [
    "def create_index(index_folder_name, docs):\n",
    "    '''\n",
    "    Creates an index structure in the named folder \n",
    "    to enable search over the target corpus\n",
    "    \n",
    "    Parameters:\n",
    "    ----------\n",
    "        index_folder_name: string\n",
    "                            The name of the folder that will \n",
    "                            hold the created index. The folder \n",
    "                            must not already exist (to update this soon)\n",
    "        docs: list \n",
    "              A list of strings containing the ingested documents\n",
    "    '''\n",
    "    index_directory = index_folder_name\n",
    "\n",
    "    INDEXDIR = '/' + index_directory + '/newindex'\n",
    "    text.SimpleQA.initialize_index(INDEXDIR)\n",
    "    text.SimpleQA.index_from_list(docs, INDEXDIR, commit_every=len(docs))\n",
    "    \n",
    "    return INDEXDIR"
   ]
  },
  {
   "cell_type": "code",
   "execution_count": null,
   "metadata": {
    "scrolled": true
   },
   "outputs": [],
   "source": [
    "INDEXDIR = create_index('tmp19', docs)"
   ]
  },
  {
   "cell_type": "markdown",
   "metadata": {},
   "source": [
    "### Create a question-answer instance\n",
    "\n",
    "(the BERT model tuned on the SQUaD question-answering benchmark will be downloaded\n",
    "if an instance does not already exist on the local system.)"
   ]
  },
  {
   "cell_type": "code",
   "execution_count": null,
   "metadata": {},
   "outputs": [],
   "source": [
    "def create_qa_engine(INDEXDIR):\n",
    "    '''\n",
    "    Creates a question-answer instance.\n",
    "    \n",
    "    Parameters:\n",
    "    ----------\n",
    "        INDEXDIR: string\n",
    "                  Path to the index directory\n",
    "    '''\n",
    "    \n",
    "    qa = text.SimpleQA(INDEXDIR)\n",
    "    return qa"
   ]
  },
  {
   "cell_type": "code",
   "execution_count": null,
   "metadata": {},
   "outputs": [],
   "source": [
    "qa = create_qa_engine(INDEXDIR)"
   ]
  },
  {
   "cell_type": "markdown",
   "metadata": {},
   "source": [
    "### Ask questions"
   ]
  },
  {
   "cell_type": "code",
   "execution_count": null,
   "metadata": {},
   "outputs": [],
   "source": [
    "def adhoc_test_qa_engine(question_list, qa):\n",
    "    '''\n",
    "    Answers the questions sequentially in the supplied question list\n",
    "    \n",
    "    Parameters:\n",
    "    ----------\n",
    "        question_list: list\n",
    "                       A list of questions in string format\n",
    "    '''\n",
    "    for question in question_list:\n",
    "        print(question)\n",
    "        answers = qa.ask(question)\n",
    "        qa.display_answers(answers[:5])\n",
    "        print(\" \")\n",
    "    "
   ]
  },
  {
   "cell_type": "code",
   "execution_count": null,
   "metadata": {},
   "outputs": [],
   "source": [
    "question_list = [\n",
    "    'Where did the Dodgers start?',\n",
    "    'Where are the Dodgers based now?',\n",
    "    'When were the Dodgers founded?',\n",
    "    'When did the Dodgers win their latest World Series?'\n",
    "]"
   ]
  },
  {
   "cell_type": "code",
   "execution_count": null,
   "metadata": {},
   "outputs": [],
   "source": [
    "adhoc_test_qa_engine(question_list, qa)"
   ]
  },
  {
   "cell_type": "markdown",
   "metadata": {},
   "source": [
    "## Experiment 2: Multi-Team Corpus"
   ]
  },
  {
   "cell_type": "code",
   "execution_count": null,
   "metadata": {},
   "outputs": [],
   "source": [
    "docs2 = [\n",
    "    \n",
    "    \"The Los Angeles Dodgers are an American professional baseball team based in Los Angeles. The Dodgers compete in Major League Baseball (MLB) as a member club of the National League (NL) West division. Established in 1883 in the city of Brooklyn, which later became a borough of New York City, the team joined the NL in 1890 as the Brooklyn Bridegrooms and assumed several different monikers thereafter before finally settling on the name Dodgers in 1932. From the 1940s through the mid-1950s, the Dodgers developed a fierce cross-town rivalry with the New York Yankees as the two clubs faced each other in the World Series seven times, with the Dodgers losing the first five matchups before defeating them to win the franchise's first title in 1955. It was also during this period that the Dodgers made history by breaking the baseball color line in 1947 with the debut of Jackie Robinson, the first African-American to play in the Major Leagues since 1884. Another major milestone was reached in 1956 when Don Newcombe became the first player ever to win both the Cy Young Award and the NL MVP in the same season.\"\n",
    "    \n",
    "    ,\"One of the most successful and storied franchises in MLB, the Dodgers have won seven World Series championships and a record 24 National League pennants. Eleven NL MVP award winners have played for the Dodgers, winning a total of 14. Eight Cy Young Award winners have pitched for the club, winning a total of 12—by far the most of any Major League franchise. Additionally, the Dodgers boast 18 Rookie of the Year Award winners—twice as many as the next club. This includes four consecutive Rookies of the Year from 1979 to 1982 and five consecutive from 1992 to 1996. From 1884 through 2021, the Dodgers' all-time record is 11,123–9,891 (.529).\"    \n",
    "\n",
    "    ,\"Today, the Dodgers are among the most popular MLB teams, enjoying large fan support both at home and on the road. They maintain a fierce rivalry with the San Francisco Giants dating back to when the two clubs were based in New York City. As of 2021, Forbes ranks the Dodgers second in MLB franchise valuation at $3.57 billion.\"\n",
    "    \n",
    "    ,\"The Dodgers were founded in 1883 as the Brooklyn Atlantics, borrowing the name of a defunct team that had played in Brooklyn before them. The team joined the American Association in 1884 and won the AA championship in 1889 before joining the National League in 1890. They promptly won the NL Championship their first year in the League. The team was known alternatively as the Bridegrooms, Grooms, Superbas, Robins, and Trolley Dodgers before officially becoming the Brooklyn Dodgers in the 1930s.\"\n",
    "    \n",
    "    ,\"Real estate investor Walter O'Malley acquired majority ownership of the Dodgers in 1950, when he bought the 25 percent share of co-owner Branch Rickey and became allied with the widow of another equal partner, Mrs. John L. Smith. Shortly afterwards, he was working to buy new land in Brooklyn to build a more accessible and profitable ballpark than the aging Ebbets Field. Beloved as it was, Ebbets Field was no longer well-served by its aging infrastructure and the Dodgers could no longer sell out the park even in the heat of a pennant race, despite largely dominating the National League from 1946 to 1957.\"\n",
    "\n",
    "    ,\"O'Malley wanted to build a new, state-of-the-art stadium in Brooklyn. But City Planner Robert Moses and New York politicians refused to grant him the eminent domain authority required to build pursuant to O'Malley's plans. To put pressure on the city, during the 1955 season, O'Malley announced that the team would play seven regular-season games and one exhibition game at Jersey City's Roosevelt Stadium in 1956. Moses and the City considered this an empty threat, and did not believe O'Malley would go through with moving the team from New York City. After teams began to travel to and from games by air instead of train, it became possible to include locations in the far west. Los Angeles officials attended the 1956 World Series looking to the Washington Senators to move to the West Coast. When O Malley heard that LA was looking for a club, he sent word to the Los Angeles officials that he was interested in talking. LA offered him what New York would not: a chance to buy land suitable for building a ballpark, and own that ballpark, giving him complete control over all revenue streams. When the news came out, NYC Mayor Robert F. Wagner, Jr. and Moses made an offer to build a ballpark on the World Fair Grounds in Queens that would be shared by the Giants and Dodgers. However, O'Malley was interested in his park under only his conditions, and the plans for a new stadium in Brooklyn seemed like a pipe dream. O'Malley decided to move the Dodgers to California, convincing Giants owner Horace Stoneham to move to San Francisco instead of Minneapolis to keep the Giants-Dodgers rivalry alive on the West Coast.\"\n",
    "    \n",
    "    ,\"The Dodgers played their final game at Ebbets Field on September 24, 1957, which the Dodgers won 2–0 over the Pittsburgh Pirates. New York remained a one-team town with the New York Yankees until 1962, when Joan Payson founded the New York Mets and brought National League baseball back to the city. The blue background used by the Dodgers was adopted by the Mets, honoring their New York NL forebears with a blend of Dodgers blue and Giants orange.\"\n",
    "    \n",
    "    ,\"The New York Yankees are an American professional baseball team based in the New York City borough of the Bronx. The Yankees compete in Major League Baseball (MLB) as a member club of the American League (AL) East division. They are one of two major league clubs based in New York City, the other being the National League's (NL) New York Mets. The Yankees began play in the 1901 season as the Baltimore Orioles (no relation to the modern Baltimore Orioles). In 1903, Frank Farrell and Bill Devery purchased the franchise after it ceased operations and moved it to New York City, renaming the club the New York Highlanders.[5] The Highlanders were officially renamed the New York Yankees in 1913.\"\n",
    "    \n",
    "    ,\"The team is owned by Yankee Global Enterprises, an LLC that is controlled by the family of the late George Steinbrenner, who purchased the team in 1973. Brian Cashman is the team's general manager, and Aaron Boone is the team's field manager. The team's home games were played at the original Yankee Stadium from 1923 to 1973 and from 1976 to 2008. In 1974 and 1975, the Yankees shared Shea Stadium with the Mets, in addition to the New York Jets and the New York Giants. In 2009, they moved into a new ballpark of the same name that was constructed adjacent to the previous facility, which was closed and demolished.[7] The team is perennially among the leaders in MLB attendance.\"\n",
    "    \n",
    "    ,\"Arguably the most successful professional sports team in the United States, the Yankees have won 19 American League East Division titles, 40 American League pennants, and 27 World Series championships, all of which are MLB records.[8][9] The team has won more titles than any other franchise in the four major North American sports leagues - after briefly trailing the NHL's Montreal Canadiens by one or two titles in the 1990s. The Yankees have had 44 players and 11 managers inducted into the National Baseball Hall of Fame, including Babe Ruth, Lou Gehrig, Joe DiMaggio, Mickey Mantle, Yogi Berra, Whitey Ford, Mariano Rivera, and Derek Jeter, with Rivera and Jeter having the two highest vote percentages of all Hall of Fame members.[10][11] According to Forbes, the Yankees are the second-highest valued sports franchise in the United States and the second in the world, with an estimated value of approximately $5 billion.[12] The team has garnered enormous popularity and a dedicated fanbase, as well as widespread enmity from fans of other MLB teams.[13] The team's rivalry with the Boston Red Sox is one of the most well-known rivalries in North American sports.From 1903 to 2021, the Yankees' overall win–loss record is 10,503–7,937 (a .570 winning percentage).[14]\"\n",
    "    \n",
    "    \n",
    "]"
   ]
  },
  {
   "cell_type": "code",
   "execution_count": null,
   "metadata": {},
   "outputs": [],
   "source": [
    "INDEXDIR2 = create_index('tmp20', docs2)"
   ]
  },
  {
   "cell_type": "code",
   "execution_count": null,
   "metadata": {},
   "outputs": [],
   "source": [
    "qa2 = create_qa_engine(INDEXDIR2)"
   ]
  },
  {
   "cell_type": "code",
   "execution_count": null,
   "metadata": {},
   "outputs": [],
   "source": [
    "question_list2 = [\n",
    "    'Where do the Dodgers play their home games?',\n",
    "    'Where do the Yankees play their home games?',\n",
    "    'When were the Yankees founded?',\n",
    "    'When were the Dodgers founded'\n",
    "]\n",
    "adhoc_test_qa_engine(question_list2, qa2)"
   ]
  },
  {
   "cell_type": "code",
   "execution_count": null,
   "metadata": {},
   "outputs": [],
   "source": [
    "question_list2 = [\n",
    "    'What is the Yankees nickname?',\n",
    "    'What two cities have the Dodgers been based in?'\n",
    "]\n",
    "adhoc_test_qa_engine(question_list2, qa2)"
   ]
  },
  {
   "cell_type": "code",
   "execution_count": null,
   "metadata": {},
   "outputs": [],
   "source": [
    "question_list2 = [\n",
    "    'Who is a famous Yankee player?' \n",
    "]\n",
    "adhoc_test_qa_engine(question_list2, qa2)"
   ]
  },
  {
   "cell_type": "code",
   "execution_count": null,
   "metadata": {},
   "outputs": [],
   "source": [
    "question_list2 = [\n",
    "    'Who is a famous Dodger pitcher?' \n",
    "]\n",
    "adhoc_test_qa_engine(question_list2, qa2)"
   ]
  }
 ],
 "metadata": {
  "kernelspec": {
   "display_name": "Python 3",
   "language": "python",
   "name": "python3"
  },
  "language_info": {
   "codemirror_mode": {
    "name": "ipython",
    "version": 3
   },
   "file_extension": ".py",
   "mimetype": "text/x-python",
   "name": "python",
   "nbconvert_exporter": "python",
   "pygments_lexer": "ipython3",
   "version": "3.8.5"
  }
 },
 "nbformat": 4,
 "nbformat_minor": 4
}
